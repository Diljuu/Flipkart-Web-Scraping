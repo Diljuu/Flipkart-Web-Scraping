{
  "nbformat": 4,
  "nbformat_minor": 0,
  "metadata": {
    "colab": {
      "name": "Flipkart Web Scraping.ipynb",
      "provenance": [],
      "authorship_tag": "ABX9TyNzwaVVcrX6DIxGisil0Mjr",
      "include_colab_link": true
    },
    "kernelspec": {
      "name": "python3",
      "display_name": "Python 3"
    },
    "language_info": {
      "name": "python"
    }
  },
  "cells": [
    {
      "cell_type": "markdown",
      "metadata": {
        "id": "view-in-github",
        "colab_type": "text"
      },
      "source": [
        "<a href=\"https://colab.research.google.com/github/Diljuu/Flipkart-Web-Scraping/blob/main/Flipkart_Web_Scraping.ipynb\" target=\"_parent\"><img src=\"https://colab.research.google.com/assets/colab-badge.svg\" alt=\"Open In Colab\"/></a>"
      ]
    },
    {
      "cell_type": "code",
      "metadata": {
        "id": "Wi8bcoaOegn0"
      },
      "source": [
        "#import all packages\n",
        "import requests\n",
        "from bs4 import BeautifulSoup\n",
        "import pandas\n",
        "import time\n",
        "from IPython.display import clear_output"
      ],
      "execution_count": 1,
      "outputs": []
    },
    {
      "cell_type": "code",
      "metadata": {
        "id": "vEhYiVXLemDi"
      },
      "source": [
        "url = 'https://www.flipkart.com/search?q=macbook&sid=6bo%2Cb5g&as=on&as-show=on&otracker=AS_QueryStore_OrganicAutoSuggest_1_3_na_na_na&otracker1=AS_QueryStore_OrganicAutoSuggest_1_3_na_na_na&as-pos=1&as-type=HISTORY&suggestionId=macbook%7CLaptops&requestId=cb136971-8974-45bb-9d15-32c7e4391ba2'\n",
        "req = requests.get(url)\n",
        "soup = BeautifulSoup(req.text,'html')\n",
        "print (soup)"
      ],
      "execution_count": null,
      "outputs": []
    },
    {
      "cell_type": "code",
      "metadata": {
        "id": "ekoeHKOcemF1"
      },
      "source": [
        "Prdct_name=soup.findAll('div',attrs={'class' : '_4rR01T'})        # Product Name\n",
        "Product_inf = [i.text.strip() for i in Prdct_name]\n",
        "Product_inf"
      ],
      "execution_count": null,
      "outputs": []
    },
    {
      "cell_type": "code",
      "metadata": {
        "id": "4YSxel2IemMI"
      },
      "source": [
        "Price_info=soup.findAll('div',attrs={'class' :'_30jeq3 _1_WHN1'})  # Price Info\n",
        "Price_Inf = [i.text.strip() for i in Price_info]\n",
        "Price_Inf"
      ],
      "execution_count": null,
      "outputs": []
    },
    {
      "cell_type": "code",
      "metadata": {
        "id": "So7wyOX_emOf"
      },
      "source": [
        "s=soup.findAll('div',attrs={'class':'gUuXy-'})                     #star rating\n",
        "star=[i.span.text for i in s]\n",
        "star\n",
        "\n"
      ],
      "execution_count": null,
      "outputs": []
    },
    {
      "cell_type": "code",
      "metadata": {
        "id": "131Z6XkTubNN"
      },
      "source": [
        "ratings=[]\n",
        "reviews=[]                                                         # Ratings and Reviews\n",
        "r=soup.findAll('span',attrs={'class' : '_2_R_DZ'})\n",
        "for i in r:\n",
        "  r=i.text.split('&')\n",
        "  ratings.append(r[0].split(' ')[0])\n",
        "  reviews.append(r[1].split(' ')[0].strip())\n",
        "\n",
        "  "
      ],
      "execution_count": 6,
      "outputs": []
    },
    {
      "cell_type": "code",
      "metadata": {
        "id": "lPVvQKP9emRE"
      },
      "source": [
        "Specifications=soup.findAll('ul',attrs={'class' : '_1xgFaf'})      #Specifications\n",
        "Spec=([i.text.strip() for i in Specifications])\n",
        "Spec"
      ],
      "execution_count": null,
      "outputs": []
    },
    {
      "cell_type": "code",
      "metadata": {
        "id": "MlN-U2PzemTh"
      },
      "source": [
        "data=pandas.DataFrame({'Product Name' : Product_inf,\n",
        "                       'Price Info' : Price_Inf,\n",
        "                       'star_info':star,\n",
        "                       'Ratings' : ratings,\n",
        "                       'Reviews' : reviews,\n",
        "                       'Specification' : Spec})"
      ],
      "execution_count": 8,
      "outputs": []
    },
    {
      "cell_type": "code",
      "metadata": {
        "id": "vCQXfwVFemV8"
      },
      "source": [
        "data.to_csv('Flipkart Data.csv',index=False)"
      ],
      "execution_count": 9,
      "outputs": []
    },
    {
      "cell_type": "code",
      "metadata": {
        "id": "qwuQTuSAemYg"
      },
      "source": [
        "import time \n",
        "base_url = 'https://www.flipkart.com/search?q=macbook&sid=6bo%2Cb5g&as=on&as-show=on&otracker=AS_QueryStore_HistoryAutoSuggest_1_2_na_na_na&otracker1=AS_QueryStore_HistoryAutoSuggest_1_2_na_na_na&as-pos=1&as-type=HISTORY&suggestionId=macbook%7CLaptops&requestId=fac3745a-260d-4e22-8a62-d7000b982913&page='\n",
        "\n",
        "Product=[]\n",
        "Price=[]\n",
        "Star=[]\n",
        "Reviews=[]\n",
        "Ratings=[]\n",
        "Specs=[]\n",
        "\n",
        "for i in range(1,3):\n",
        "  time.sleep(3)\n",
        "  url=base_url+str(i)\n",
        "  req=requests.get(url)\n",
        "  soup=BeautifulSoup(req.text,'html')\n",
        "  \n",
        "  #Product Name\n",
        "  p=soup.findAll('div',attrs={'class':'_4rR01T'})               \n",
        "  for i in p:\n",
        "    Product.append(i.text)\n",
        "  \n",
        "\n",
        "  #Price\n",
        "  pr=soup.findAll('div',attrs={'class':'_30jeq3 _1_WHN1'})          \n",
        "  for i in pr:\n",
        "    Price.append(i.text)\n",
        "  \n",
        "  #Star Ratings\n",
        "  s=soup.findAll('div',attrs={'class':'gUuXy-'})                  \n",
        "  for i in s:\n",
        "    Star.append(i.text)\n",
        "  \n",
        "  #Rating & Reviews\n",
        "  r=soup.findAll('span',attrs={'class':'_2_R_DZ'})     \n",
        "  for i in r:\n",
        "    r=i.text.split('&')\n",
        "    Ratings.append(r[0].split(' ')[0])\n",
        "    Reviews.append(r[1].split(' ')[0].strip())\n",
        "  \n",
        "\n",
        " #Specifications\n",
        "  a=soup.findAll('ul',attrs={'class':'_1xgFaf'})               \n",
        "  for i in a:\n",
        "    a=i.findAll('li')\n",
        "    Specs.append([i.text for i in a])\n",
        "    "
      ],
      "execution_count": 10,
      "outputs": []
    },
    {
      "cell_type": "code",
      "metadata": {
        "id": "cQb8RQ-_emay"
      },
      "source": [
        "data=pandas.DataFrame({'Product_info' : Product,\n",
        "                   'Price' : Price,\n",
        "                   'star_info':Star,\n",
        "                   'Reviews': Reviews,\n",
        "                   'Ratings': Ratings,\n",
        "                   'Features':Specs\n",
        "                  })"
      ],
      "execution_count": 11,
      "outputs": []
    },
    {
      "cell_type": "code",
      "metadata": {
        "id": "wsF3CdjhemdM"
      },
      "source": [
        "data.to_csv('Flipkart data.csv',index=False)"
      ],
      "execution_count": 12,
      "outputs": []
    },
    {
      "cell_type": "code",
      "metadata": {
        "id": "4v4bL-Uuemfi"
      },
      "source": [
        ""
      ],
      "execution_count": 12,
      "outputs": []
    },
    {
      "cell_type": "code",
      "metadata": {
        "id": "cYJIafnmemiD"
      },
      "source": [
        ""
      ],
      "execution_count": 12,
      "outputs": []
    },
    {
      "cell_type": "code",
      "metadata": {
        "id": "lmt9YQkremkz"
      },
      "source": [
        ""
      ],
      "execution_count": 12,
      "outputs": []
    },
    {
      "cell_type": "code",
      "metadata": {
        "id": "7TfUXrtEemnV"
      },
      "source": [
        ""
      ],
      "execution_count": 12,
      "outputs": []
    },
    {
      "cell_type": "code",
      "metadata": {
        "id": "dec4BJbHemqU"
      },
      "source": [
        ""
      ],
      "execution_count": 12,
      "outputs": []
    },
    {
      "cell_type": "code",
      "metadata": {
        "id": "blFc6VQaemvN"
      },
      "source": [
        ""
      ],
      "execution_count": 12,
      "outputs": []
    }
  ]
}